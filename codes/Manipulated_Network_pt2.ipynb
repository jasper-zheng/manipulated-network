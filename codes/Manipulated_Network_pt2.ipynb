{
 "cells": [
  {
   "cell_type": "markdown",
   "id": "fbad2a49-75ac-47dc-9afa-630e539ad248",
   "metadata": {},
   "source": [
    "# Manipulated Network Pt.2  "
   ]
  },
  {
   "cell_type": "code",
   "execution_count": null,
   "id": "3f7d84ff-5c8e-4bea-93fe-452b07f5d0c0",
   "metadata": {},
   "outputs": [],
   "source": []
  },
  {
   "cell_type": "markdown",
   "id": "4c4e17c5-ed94-40d9-8c9c-c4f3049c6ecd",
   "metadata": {},
   "source": [
    "## 4 - Network Bending\n",
    "### 4.1 Preparation  \n",
    "\n",
    "First, we'll load the original model and load the weights."
   ]
  },
  {
   "cell_type": "code",
   "execution_count": 1,
   "id": "795eba7d-0947-477a-91f6-332a11cf7ea6",
   "metadata": {},
   "outputs": [
    {
     "name": "stdout",
     "output_type": "stream",
     "text": [
      "[PhysicalDevice(name='/physical_device:GPU:0', device_type='GPU')]\n"
     ]
    }
   ],
   "source": [
    "from matplotlib import pyplot as plt\n",
    "import tensorflow as tf\n",
    "import tensorflow_addons as tfa\n",
    "from tensorflow.keras.backend import clear_session\n",
    "\n",
    "from tensorflow import config\n",
    "\n",
    "\n",
    "physical_devices = config.list_physical_devices('GPU')\n",
    "config.experimental.set_memory_growth(physical_devices[0], True)\n",
    "print(physical_devices)\n",
    "\n",
    "import numpy as np\n",
    "import pickle\n",
    "\n",
    "from stylegan import StyleGAN_G\n"
   ]
  },
  {
   "cell_type": "code",
   "execution_count": 2,
   "id": "9f4724c8-6bed-47e2-9113-792f7b25374f",
   "metadata": {},
   "outputs": [
    {
     "name": "stdout",
     "output_type": "stream",
     "text": [
      "Model created.\n",
      "Weights loaded to memory.\n",
      ".........Total number of parameters copied: 2101760\n",
      "..........................................................................................Total number of parameters copied: 26381651\n"
     ]
    }
   ],
   "source": [
    "model = StyleGAN_G(resolution=1024)\n",
    "\n",
    "all_weights = pickle.load(open('gs_weights_ffhq.pkl', 'rb'))\n",
    "print('Weights loaded to memory.')\n",
    "\n",
    "from stylegan import copy_weights_to_keras_model\n",
    "\n",
    "copy_weights_to_keras_model(model.model_mapping, all_weights, console=True)\n",
    "copy_weights_to_keras_model(model.model_synthesis, all_weights, console=True)\n",
    "model.copy_weights(all_weights)\n",
    "\n",
    "rnd = np.random.RandomState(28526)\n",
    "latents = rnd.randn(1, 512)"
   ]
  },
  {
   "cell_type": "markdown",
   "id": "fd6e726d-99f9-4f02-8054-252c0285a2cb",
   "metadata": {},
   "source": [
    "In the file `NetworkOperations.py`, I prepared 14 basic operations that could be inserted after specific model layers.   \n",
    "The implemented StyleGAN model takes a dictionary variable as an operation template.  \n",
    "\n",
    "`resolution` and `install_after` together define the Conv layer that is going to be operated. In the StyleGAN architecture, each resolution has two convolutional layers, `Conv0_up` is the one that scale up the feature maps, `Conv1` is the accompanied layer after the upscaling layer.  \n",
    "\n",
    "`layers` defines a list of bending operations that is going to be inserted.  \n",
    "\n",
    "`operation` takes a string defining the type of operation, including `scale`, `invert`, `shuffle`, `brightness`, `translate`, `vanish`, `mean_filter`, `rotate`, `sharpen`, `erosion`, `dilation`, `mirrorY`, `sin_disrupt`."
   ]
  },
  {
   "cell_type": "code",
   "execution_count": 5,
   "id": "ff898a27-b02b-485d-9f4c-94b667b2f935",
   "metadata": {},
   "outputs": [],
   "source": [
    "operations = [{'resolution':4,\n",
    "               'install_after':'Conv0_up',\n",
    "               'layers':[]\n",
    "               },\n",
    "              {'resolution':4,\n",
    "                'install_after':'Conv1',\n",
    "                'layers':[]\n",
    "               },\n",
    "              {'resolution':8,\n",
    "                'install_after':'Conv0_up',\n",
    "                'layers':[]\n",
    "               },\n",
    "              {'resolution':8,\n",
    "                'install_after':'Conv1',\n",
    "                'layers':[{'operation':'mean_filter',\n",
    "                            'name':'01',\n",
    "                            'with_norm':True,\n",
    "                            'filter_shape':3}]\n",
    "               },\n",
    "              {'resolution':16,\n",
    "                'install_after':'Conv0_up',\n",
    "                'layers':[]\n",
    "               },\n",
    "              {'resolution':16,\n",
    "                'install_after':'Conv1',\n",
    "                'layers':[]\n",
    "               },\n",
    "              {'resolution':32,\n",
    "                'install_after':'Conv0_up',\n",
    "                'layers':[]\n",
    "               },\n",
    "              {'resolution':32,\n",
    "                'install_after':'Conv1',\n",
    "                'layers':[]\n",
    "               },\n",
    "              ]"
   ]
  },
  {
   "cell_type": "markdown",
   "id": "c8881d37-bd86-45dd-821b-827ed471732a",
   "metadata": {},
   "source": [
    "Then we'll use `rebuild_operations()` to insert operations to the model.  \n",
    "\n",
    "TODO: Current method is **not inserting layers in realtime**, instead I create a new model with operation layers and replace the synthesis network, and load the weights again, which is inefficient. Need revise.   "
   ]
  },
  {
   "cell_type": "code",
   "execution_count": 10,
   "id": "076f10ac-0025-49b8-be77-e149fc7063b3",
   "metadata": {
    "tags": []
   },
   "outputs": [
    {
     "name": "stdout",
     "output_type": "stream",
     "text": [
      "operation: mean_filter\n",
      "operation applied to 512 layers\n",
      "Synthesis network rebuilt and loaded.\n",
      "operation: mean_filter\n",
      "operation applied to 512 layers\n",
      "WARNING:tensorflow:6 out of the last 6 calls to <function Model.make_predict_function.<locals>.predict_function at 0x000001FFFFA38828> triggered tf.function retracing. Tracing is expensive and the excessive number of tracings could be due to (1) creating @tf.function repeatedly in a loop, (2) passing tensors with different shapes, (3) passing Python objects instead of tensors. For (1), please define your @tf.function outside of the loop. For (2), @tf.function has experimental_relax_shapes=True option that relaxes argument shapes that can avoid unnecessary retracing. For (3), please refer to https://www.tensorflow.org/tutorials/customization/performance#python_or_tensor_args and https://www.tensorflow.org/api_docs/python/tf/function for  more details.\n",
      "(1, 1024, 1024, 3) 0.0 1.0\n"
     ]
    },
    {
     "data": {
      "text/plain": [
       "<matplotlib.image.AxesImage at 0x1ffed0d33c8>"
      ]
     },
     "execution_count": 10,
     "metadata": {},
     "output_type": "execute_result"
    },
    {
     "data": {
      "image/png": "[encoded data removed]",
      "text/plain": [
       "<Figure size 432x288 with 1 Axes>"
      ]
     },
     "metadata": {
      "needs_background": "light"
     },
     "output_type": "display_data"
    }
   ],
   "source": [
    "model.rebuild_operations(operations)\n",
    "y = model.generate_from_vector_fast(latents,is_visualize=False)\n",
    "\n",
    "plt.imshow(y)\n"
   ]
  },
  {
   "cell_type": "markdown",
   "id": "87b9747e-e2ca-461b-a9c8-45db09bc535e",
   "metadata": {},
   "source": [
    "In the next section we'll try different operation on different layers."
   ]
  },
  {
   "cell_type": "markdown",
   "id": "6524008f-b0e5-4407-8394-78c1aa9c9214",
   "metadata": {},
   "source": [
    "### 4.2 Scale  \n",
    "\n",
    "<img src='./Examples/scale_map.png' width=800></img>  \n",
    "Scale operation applied on feature maps after resolution 32, Conv1"
   ]
  },
  {
   "cell_type": "code",
   "execution_count": 3,
   "id": "88ff33a7-9143-4602-a45b-8323f2f83e70",
   "metadata": {
    "tags": []
   },
   "outputs": [],
   "source": [
    "operations = [{'resolution':4,\n",
    "               'install_after':'Conv0_up',\n",
    "               'layers':[{'operation':'none',\n",
    "                            'name':'01',\n",
    "                            'scale':0,\n",
    "                            'with_norm':True}]\n",
    "               },\n",
    "              {'resolution':4,\n",
    "                'install_after':'Conv1',\n",
    "                'layers':[{'operation':'none',\n",
    "                            'name':'02',\n",
    "                            'scale':0,\n",
    "                            'with_norm':True}]\n",
    "               },\n",
    "              {'resolution':8,\n",
    "                'install_after':'Conv0_up',\n",
    "                'layers':[{'operation':'none',\n",
    "                            'name':'03',\n",
    "                            'scale':0,\n",
    "                            'with_norm':True}]\n",
    "               },\n",
    "              {'resolution':8,\n",
    "                'install_after':'Conv1',\n",
    "                'layers':[{'operation':'none',\n",
    "                            'name':'04',\n",
    "                            'scale':0,\n",
    "                            'with_norm':True}]\n",
    "               },\n",
    "              {'resolution':16,\n",
    "                'install_after':'Conv0_up',\n",
    "                'layers':[{'operation':'none',\n",
    "                            'name':'05',\n",
    "                            'scale':0,\n",
    "                            'with_norm':True}]\n",
    "               },\n",
    "              {'resolution':16,\n",
    "                'install_after':'Conv1',\n",
    "                'layers':[{'operation':'none',\n",
    "                            'name':'06',\n",
    "                            'scale':0,\n",
    "                            'with_norm':True}]\n",
    "               },\n",
    "              {'resolution':32,\n",
    "                'install_after':'Conv0_up',\n",
    "                'layers':[{'operation':'none',\n",
    "                            'name':'07',\n",
    "                            'scale':0,\n",
    "                            'with_norm':True}]\n",
    "               },\n",
    "              {'resolution':32,\n",
    "                'install_after':'Conv1',\n",
    "                'layers':[{'operation':'none',\n",
    "                            'name':'08',\n",
    "                            'scale':0,\n",
    "                            'with_norm':True}]\n",
    "               },\n",
    "              ]"
   ]
  },
  {
   "cell_type": "code",
   "execution_count": null,
   "id": "cebc153b-2559-4eba-b0a4-d25d7020622e",
   "metadata": {
    "jupyter": {
     "outputs_hidden": true
    },
    "scrolled": true,
    "tags": []
   },
   "outputs": [],
   "source": [
    "layer_indexes = [6,6,6,6,6]\n",
    "scale_factor=[-12,-6,0,6,8]\n",
    "fig,axs = plt.subplots(1,5,figsize=(24,4))\n",
    "count = 0\n",
    "\n",
    "for i in range(5):\n",
    "    operations[layer_indexes[i]]['layers'][0]['scale'] = scale_factor[i]\n",
    "    operations[layer_indexes[i]]['layers'][0]['operation'] = 'scale'\n",
    "    model.rebuild_operations(operations)\n",
    "    img = model.generate_from_vector_fast(latents,is_visualize=False)\n",
    "    \n",
    "    axs[count].axis('off')\n",
    "    axs[count].title.set_text(f'layer: {layer_indexes[i]} scale: {scale_factor[i]}')\n",
    "    axs[count].imshow(img)\n",
    "    \n",
    "    operations[layer_indexes[i]]['layers'][0]['scale'] = 0\n",
    "    operations[layer_indexes[i]]['layers'][0]['operation'] = 'none'\n",
    "    count += 1\n",
    "    clear_session()\n",
    "    "
   ]
  },
  {
   "cell_type": "markdown",
   "id": "29950422-f7bd-4543-b6fa-b1816f0b87ed",
   "metadata": {},
   "source": [
    "<img src='./Examples/scale_g_1.png'></img>  \n",
    "<img src='./Examples/scale_g_2.png'></img>  \n",
    "<img src='./Examples/scale_g_4.png'></img>  \n",
    "<img src='./Examples/scale_g_6.png'></img>  "
   ]
  },
  {
   "cell_type": "markdown",
   "id": "fb9faa59-1395-4bc4-8889-b08bddc293d3",
   "metadata": {},
   "source": [
    "### 4.3 Invert    "
   ]
  },
  {
   "cell_type": "code",
   "execution_count": null,
   "id": "08a3006e-ac05-4b30-9200-c1294fb19a44",
   "metadata": {
    "jupyter": {
     "outputs_hidden": true
    },
    "scrolled": true,
    "tags": []
   },
   "outputs": [],
   "source": [
    "layer_indexes = [0,1,2,3,4,5,6]\n",
    "#scale_factor=[-12,-6,0,6,8]\n",
    "fig,axs = plt.subplots(1,7,figsize=(24,4))\n",
    "count = 0\n",
    "\n",
    "for i in range(7):\n",
    "    #operations[layer_indexes[i]]['layers'][0]['scale'] = scale_factor[i]\n",
    "    operations[layer_indexes[i]]['layers'][0]['operation'] = 'invert'\n",
    "    model.rebuild_operations(operations)\n",
    "    img = model.generate_from_vector_fast(latents,is_visualize=False)\n",
    "    \n",
    "    axs[count].axis('off')\n",
    "    axs[count].title.set_text(f'layer: {layer_indexes[i]} invert')\n",
    "    axs[count].imshow(img)\n",
    "    \n",
    "    operations[layer_indexes[i]]['layers'][0]['operation'] = 'none'\n",
    "    count += 1\n",
    "    clear_session()"
   ]
  },
  {
   "cell_type": "markdown",
   "id": "9ba6ae00-3c87-48f7-8b09-302964f35efc",
   "metadata": {},
   "source": [
    "<img src='./Examples/03_invert_g.png'></img>  "
   ]
  },
  {
   "cell_type": "markdown",
   "id": "7a63c20d-33fa-4245-a482-81f1132b6b0b",
   "metadata": {},
   "source": [
    "### 4.4 Shuffle  "
   ]
  },
  {
   "cell_type": "code",
   "execution_count": null,
   "id": "04c738f0-f1b9-4961-8e86-d7ed02681181",
   "metadata": {
    "jupyter": {
     "outputs_hidden": true
    },
    "scrolled": true,
    "tags": []
   },
   "outputs": [],
   "source": [
    "layer_indexes = [0,1,2,3,4,5,6]\n",
    "#scale_factor=[-12,-6,0,6,8]\n",
    "fig,axs = plt.subplots(1,7,figsize=(24,4))\n",
    "count = 0\n",
    "\n",
    "for i in range(7):\n",
    "    #operations[layer_indexes[i]]['layers'][0]['scale'] = scale_factor[i]\n",
    "    operations[layer_indexes[i]]['layers'][0]['operation'] = 'shuffle'\n",
    "    model.rebuild_operations(operations)\n",
    "    img = model.generate_from_vector_fast(latents,is_visualize=False)\n",
    "    \n",
    "    axs[count].axis('off')\n",
    "    axs[count].title.set_text(f'layer: {layer_indexes[i]} shuffle')\n",
    "    axs[count].imshow(img)\n",
    "    \n",
    "    operations[layer_indexes[i]]['layers'][0]['operation'] = 'none'\n",
    "    count += 1\n",
    "    clear_session()"
   ]
  },
  {
   "cell_type": "markdown",
   "id": "85f64eeb-80af-4a7b-a623-2b29cdb7cbd0",
   "metadata": {},
   "source": [
    "<img src='./Examples/04_shuffle_g.png'></img>  "
   ]
  },
  {
   "cell_type": "markdown",
   "id": "6b4d48f1-5b2f-4c9d-ae27-b1d4d372aeb2",
   "metadata": {},
   "source": [
    "### 4.5 Translate    "
   ]
  },
  {
   "cell_type": "code",
   "execution_count": null,
   "id": "612990cc-9102-46e3-af20-763e00e197a2",
   "metadata": {
    "jupyter": {
     "outputs_hidden": true
    },
    "tags": []
   },
   "outputs": [],
   "source": [
    "layer_indexes = [5,5,5,5,5,5]\n",
    "factors=[0,2,4,6,8,10]\n",
    "n=6\n",
    "fig,axs = plt.subplots(1,n,figsize=(24,6))\n",
    "count = 0\n",
    "\n",
    "for i in range(n):\n",
    "    operations[layer_indexes[i]]['layers'][0]['translateX'] = factors[i]\n",
    "    operations[layer_indexes[i]]['layers'][0]['operation'] = 'translate'\n",
    "    model.rebuild_operations(operations)\n",
    "    img = model.generate_from_vector_fast(latents,is_visualize=False)\n",
    "    \n",
    "    axs[count].axis('off')\n",
    "    axs[count].title.set_text(f'layer: {layer_indexes[i]} translateX: {factors[i]}')\n",
    "    axs[count].imshow(img)\n",
    "    \n",
    "    operations[layer_indexes[i]]['layers'][0]['translateX'] = 0\n",
    "    operations[layer_indexes[i]]['layers'][0]['operation'] = 'none'\n",
    "    count += 1\n",
    "    clear_session()"
   ]
  },
  {
   "cell_type": "markdown",
   "id": "8724b6ea",
   "metadata": {},
   "source": [
    "<img src='./Examples/05_translate_0.png'></img>  \n",
    "<img src='./Examples/05_translate_1.png'></img>  \n",
    "<img src='./Examples/05_translate_2.png'></img>  \n",
    "<img src='./Examples/05_translate_3.png'></img>  \n",
    "<img src='./Examples/05_translate_4.png'></img>  "
   ]
  },
  {
   "cell_type": "markdown",
   "id": "b35cc285-70bf-49dd-90d2-a8f82e564c8f",
   "metadata": {},
   "source": [
    "### 4.6 Mean Filter    "
   ]
  },
  {
   "cell_type": "code",
   "execution_count": null,
   "id": "ee5e3e9c-c9b1-48a4-8ffc-ce02ee0c1a9f",
   "metadata": {
    "jupyter": {
     "outputs_hidden": true
    },
    "scrolled": true,
    "tags": []
   },
   "outputs": [],
   "source": [
    "layer_indexes = [4,4,4,4,4]\n",
    "factors=[2,3,4,5,6]\n",
    "n=5\n",
    "fig,axs = plt.subplots(1,n,figsize=(24,6))\n",
    "count = 0\n",
    "\n",
    "for i in range(n):\n",
    "    operations[layer_indexes[i]]['layers'][0]['filter_shape'] = factors[i]\n",
    "    operations[layer_indexes[i]]['layers'][0]['operation'] = 'mean_filter'\n",
    "    model.rebuild_operations(operations)\n",
    "    img = model.generate_from_vector_fast(latents,is_visualize=False)\n",
    "    \n",
    "    axs[count].axis('off')\n",
    "    axs[count].title.set_text(f'layer: {layer_indexes[i]} mean_filter: {factors[i]}')\n",
    "    axs[count].imshow(img)\n",
    "    \n",
    "    operations[layer_indexes[i]]['layers'][0]['filter_shape'] = 3\n",
    "    operations[layer_indexes[i]]['layers'][0]['operation'] = 'none'\n",
    "    count += 1\n",
    "    clear_session()"
   ]
  },
  {
   "cell_type": "markdown",
   "id": "b7c957a8",
   "metadata": {},
   "source": [
    "<img src='./Examples/06_mean_filter_1.png'></img>  \n",
    "<img src='./Examples/06_mean_filter_2.png'></img>  \n",
    "<img src='./Examples/06_mean_filter_4.png'></img>  "
   ]
  },
  {
   "cell_type": "markdown",
   "id": "1fae8ba3-8cc4-4ac9-9692-e4435b4c0be3",
   "metadata": {},
   "source": [
    "### 4.7 Rotate  "
   ]
  },
  {
   "cell_type": "code",
   "execution_count": null,
   "id": "21dd52bc-527a-4a95-9f92-2b86e9d856c0",
   "metadata": {
    "jupyter": {
     "outputs_hidden": true
    },
    "scrolled": true,
    "tags": []
   },
   "outputs": [],
   "source": [
    "layer_indexes = [5,5,5,5,5,5]\n",
    "factors=[10,6,3,2,2.5,1]\n",
    "n=6\n",
    "fig,axs = plt.subplots(1,n,figsize=(24,6))\n",
    "count = 0\n",
    "\n",
    "for i in range(n):\n",
    "    operations[layer_indexes[i]]['layers'][0]['rotation'] = np.pi/factors[i]\n",
    "    operations[layer_indexes[i]]['layers'][0]['operation'] = 'rotate'\n",
    "    model.rebuild_operations(operations)\n",
    "    img = model.generate_from_vector_fast(latents,is_visualize=False)\n",
    "    \n",
    "    axs[count].axis('off')\n",
    "    axs[count].title.set_text(f'layer: {layer_indexes[i]} rotate: pi/{factors[i]}')\n",
    "    axs[count].imshow(img)\n",
    "    \n",
    "    operations[layer_indexes[i]]['layers'][0]['rotation'] = 0\n",
    "    operations[layer_indexes[i]]['layers'][0]['operation'] = 'none'\n",
    "    count += 1\n",
    "    clear_session()"
   ]
  },
  {
   "cell_type": "markdown",
   "id": "b32feedd",
   "metadata": {},
   "source": [
    "<img src='./Examples/07_rotate_0.png'></img>  \n",
    "<img src='./Examples/07_rotate_1.png'></img>  \n",
    "<img src='./Examples/07_rotate_2.png'></img>  \n",
    "<img src='./Examples/07_rotate_3.png'></img>  \n",
    "<img src='./Examples/07_rotate_4.png'></img>  \n",
    "<img src='./Examples/07_rotate_5.png'></img>  "
   ]
  },
  {
   "cell_type": "markdown",
   "id": "13e3b1dc-4643-47a2-92a5-60f7399c1e76",
   "metadata": {},
   "source": [
    "### 4.8 Sharpen"
   ]
  },
  {
   "cell_type": "code",
   "execution_count": null,
   "id": "217d88a5-7078-4ded-acaf-d425279ff149",
   "metadata": {
    "jupyter": {
     "outputs_hidden": true
    },
    "scrolled": true,
    "tags": []
   },
   "outputs": [],
   "source": [
    "layer_indexes = [3,4,5,6,7]\n",
    "factors=[10,10,10,10,10]\n",
    "n=5\n",
    "fig,axs = plt.subplots(1,n,figsize=(24,6))\n",
    "count = 0\n",
    "\n",
    "for i in range(n):\n",
    "    operations[layer_indexes[i]]['layers'][0]['sharpen_factor'] = factors[i]\n",
    "    operations[layer_indexes[i]]['layers'][0]['operation'] = 'sharpen'\n",
    "    model.rebuild_operations(operations)\n",
    "    img = model.generate_from_vector_fast(latents,is_visualize=False)\n",
    "    \n",
    "    axs[count].axis('off')\n",
    "    axs[count].title.set_text(f'layer: {layer_indexes[i]} sharpen_factor: {factors[i]}')\n",
    "    axs[count].imshow(img)\n",
    "    \n",
    "    operations[layer_indexes[i]]['layers'][0]['sharpen_factor'] = 0\n",
    "    operations[layer_indexes[i]]['layers'][0]['operation'] = 'none'\n",
    "    count += 1\n",
    "    clear_session()"
   ]
  },
  {
   "cell_type": "markdown",
   "id": "29d75770",
   "metadata": {},
   "source": [
    "<img src='./Examples/08_sharpen.png'></img>  "
   ]
  },
  {
   "cell_type": "markdown",
   "id": "7023cfc0-a243-4b32-995f-37d9f62cf92c",
   "metadata": {},
   "source": [
    "### 4.9 Erosion"
   ]
  },
  {
   "cell_type": "code",
   "execution_count": null,
   "id": "eec12277-aae9-4e63-8fac-0bb1817f304d",
   "metadata": {
    "jupyter": {
     "outputs_hidden": true
    },
    "scrolled": true,
    "tags": []
   },
   "outputs": [],
   "source": [
    "layer_indexes = [0,1,2,3,4,5,6,7]\n",
    "#factors=[10,10,10,10,10]\n",
    "\n",
    "n=8\n",
    "fig,axs = plt.subplots(1,n,figsize=(24,6))\n",
    "count = 0\n",
    "\n",
    "for i in range(n):\n",
    "    #operations[layer_indexes[i]]['layers'][0]['sharpen_factor'] = factors[i]\n",
    "    operations[layer_indexes[i]]['layers'][0]['operation'] = 'erosion'\n",
    "    model.rebuild_operations(operations)\n",
    "    img = model.generate_from_vector_fast(latents,is_visualize=False)\n",
    "    \n",
    "    axs[count].axis('off')\n",
    "    axs[count].title.set_text(f'layer: {layer_indexes[i]} erosion')\n",
    "    axs[count].imshow(img)\n",
    "    \n",
    "    #operations[layer_indexes[i]]['layers'][0]['sharpen_factor'] = 0\n",
    "    operations[layer_indexes[i]]['layers'][0]['operation'] = 'none'\n",
    "    count += 1\n",
    "    clear_session()"
   ]
  },
  {
   "cell_type": "markdown",
   "id": "3a25750f",
   "metadata": {},
   "source": [
    "<img src='./Examples/09_erosion.png'></img>  "
   ]
  },
  {
   "cell_type": "markdown",
   "id": "92354142-7fbf-4988-a89d-d44032052d85",
   "metadata": {},
   "source": [
    "### 4.10 Dilation"
   ]
  },
  {
   "cell_type": "code",
   "execution_count": null,
   "id": "80994cf7-0299-4609-b65b-afd9feb1b909",
   "metadata": {
    "jupyter": {
     "outputs_hidden": true
    },
    "scrolled": true,
    "tags": []
   },
   "outputs": [],
   "source": [
    "layer_indexes = [0,1,2,3,4,5,6,7]\n",
    "#factors=[10,10,10,10,10]\n",
    "\n",
    "n=8\n",
    "fig,axs = plt.subplots(1,n,figsize=(24,6))\n",
    "count = 0\n",
    "\n",
    "for i in range(n):\n",
    "    #operations[layer_indexes[i]]['layers'][0]['sharpen_factor'] = factors[i]\n",
    "    operations[layer_indexes[i]]['layers'][0]['operation'] = 'dilation'\n",
    "    model.rebuild_operations(operations)\n",
    "    img = model.generate_from_vector_fast(latents,is_visualize=False)\n",
    "    \n",
    "    axs[count].axis('off')\n",
    "    axs[count].title.set_text(f'layer: {layer_indexes[i]} dilation')\n",
    "    axs[count].imshow(img)\n",
    "    \n",
    "    #operations[layer_indexes[i]]['layers'][0]['sharpen_factor'] = 0\n",
    "    operations[layer_indexes[i]]['layers'][0]['operation'] = 'none'\n",
    "    count += 1\n",
    "    clear_session()"
   ]
  },
  {
   "cell_type": "markdown",
   "id": "53640715",
   "metadata": {},
   "source": [
    "<img src='./Examples/10_dilation.png'></img>  "
   ]
  },
  {
   "cell_type": "markdown",
   "id": "670555e6-55f5-439d-aef7-2e4d49cf4484",
   "metadata": {},
   "source": [
    "### 4.11 MirrorY"
   ]
  },
  {
   "cell_type": "code",
   "execution_count": null,
   "id": "a3e3c5b6-e9a1-47cb-b7a2-2cebdcee6b99",
   "metadata": {
    "tags": []
   },
   "outputs": [],
   "source": [
    "layer_indexes = [0,1,2,3,4,5,6,7]\n",
    "#factors=[10,10,10,10,10]\n",
    "\n",
    "n=8\n",
    "fig,axs = plt.subplots(1,n,figsize=(24,6))\n",
    "count = 0\n",
    "\n",
    "for i in range(n):\n",
    "    #operations[layer_indexes[i]]['layers'][0]['sharpen_factor'] = factors[i]\n",
    "    operations[layer_indexes[i]]['layers'][0]['operation'] = 'mirrorY'\n",
    "    model.rebuild_operations(operations)\n",
    "    img = model.generate_from_vector_fast(latents,is_visualize=False)\n",
    "    \n",
    "    axs[count].axis('off')\n",
    "    axs[count].title.set_text(f'layer: {layer_indexes[i]} mirrorY')\n",
    "    axs[count].imshow(img)\n",
    "    \n",
    "    #operations[layer_indexes[i]]['layers'][0]['sharpen_factor'] = 0\n",
    "    operations[layer_indexes[i]]['layers'][0]['operation'] = 'none'\n",
    "    count += 1\n",
    "    clear_session()"
   ]
  },
  {
   "cell_type": "markdown",
   "id": "c19dd50a",
   "metadata": {},
   "source": [
    "<img src='./Examples/11_mirrorY.png'></img>  "
   ]
  },
  {
   "cell_type": "markdown",
   "id": "ed5afdc9-43c1-47c7-8789-52d6fe369129",
   "metadata": {},
   "source": [
    "### 4.12 MirrorX"
   ]
  },
  {
   "cell_type": "code",
   "execution_count": null,
   "id": "e4b9dd52-0b32-4f4f-b240-62ead773187f",
   "metadata": {
    "tags": []
   },
   "outputs": [],
   "source": [
    "layer_indexes = [0,1,2,3,4,5,6,7]\n",
    "#factors=[10,10,10,10,10]\n",
    "\n",
    "n=8\n",
    "fig,axs = plt.subplots(1,n,figsize=(24,6))\n",
    "count = 0\n",
    "\n",
    "for i in range(n):\n",
    "    #operations[layer_indexes[i]]['layers'][0]['sharpen_factor'] = factors[i]\n",
    "    operations[layer_indexes[i]]['layers'][0]['operation'] = 'mirrorX'\n",
    "    model.rebuild_operations(operations)\n",
    "    img = model.generate_from_vector_fast(latents,is_visualize=False)\n",
    "    \n",
    "    axs[count].axis('off')\n",
    "    axs[count].title.set_text(f'layer: {layer_indexes[i]} mirrorX')\n",
    "    axs[count].imshow(img)\n",
    "    \n",
    "    #operations[layer_indexes[i]]['layers'][0]['sharpen_factor'] = 0\n",
    "    operations[layer_indexes[i]]['layers'][0]['operation'] = 'none'\n",
    "    count += 1\n",
    "    clear_session()"
   ]
  },
  {
   "cell_type": "markdown",
   "id": "a6073886",
   "metadata": {},
   "source": [
    "<img src='./Examples/12_mirrorX.png'></img>  "
   ]
  },
  {
   "cell_type": "code",
   "execution_count": null,
   "id": "6910247a",
   "metadata": {},
   "outputs": [],
   "source": []
  }
 ],
 "metadata": {
  "kernelspec": {
   "display_name": "Python 3 (ipykernel)",
   "language": "python",
   "name": "python3"
  },
  "language_info": {
   "codemirror_mode": {
    "name": "ipython",
    "version": 3
   },
   "file_extension": ".py",
   "mimetype": "text/x-python",
   "name": "python",
   "nbconvert_exporter": "python",
   "pygments_lexer": "ipython3",
   "version": "3.7.11"
  }
 },
 "nbformat": 4,
 "nbformat_minor": 5
}
