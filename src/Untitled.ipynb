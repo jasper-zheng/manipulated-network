{
 "cells": [
  {
   "cell_type": "markdown",
   "id": "6b9f3109-9963-4160-89cb-1dbde9c22d0e",
   "metadata": {},
   "source": [
    "# Manipulated Network"
   ]
  },
  {
   "cell_type": "code",
   "execution_count": null,
   "id": "b62076e7-1a5c-4c06-b48a-8ffde7b9a7db",
   "metadata": {},
   "outputs": [],
   "source": []
  },
  {
   "cell_type": "markdown",
   "id": "87d63f78-5e71-4f7b-8864-4e9f14210d64",
   "metadata": {},
   "source": [
    "## Step 0: Load the Pre-trained Weight from StyleGAN2 (with Tensorflow 1.15)  \n",
    "\n",
    "This step should be done in envirounment with TF 1. We first load the pre-trained weights for StyleGAN2 from NVIDIA, "
   ]
  },
  {
   "cell_type": "code",
   "execution_count": null,
   "id": "de3d322b-214a-43b9-b045-ea02e3cf9c2d",
   "metadata": {},
   "outputs": [],
   "source": [
    "import numpy as np\n",
    "import collections\n",
    "import tensorflow as tf\n",
    "import pickle\n",
    "import dnnlib.tflib as tflib\n"
   ]
  },
  {
   "cell_type": "code",
   "execution_count": null,
   "id": "8e9b484c-6b16-452e-8715-fdf02bb93fb4",
   "metadata": {},
   "outputs": [],
   "source": [
    "tflib.init_tf()\n",
    "f = open('karras2019stylegan-cats-256x256.pkl', 'rb')\n",
    "_G, _D, _Gs = pickle.load(f)\n",
    "print('Gs ready')\n",
    "#%%\n",
    "\n",
    "# Load best weights (Gs) into memory\n",
    "sess = tf.get_default_session()\n",
    "all_weights = collections.OrderedDict()\n",
    "with sess.as_default():  \n",
    "    for i, (key, weight_tensor) in enumerate(_Gs.vars.items()):\n",
    "        all_weights[key] = weight_tensor.eval()\n",
    "        print('.', end='')\n",
    "print(' ({}) weights found. '.format(len(all_weights)))\n",
    "\n",
    "#%%\n",
    "\n",
    "pickle.dump(all_weights, open( 'gs_weights_cats.pkl', 'wb' ) )\n",
    "print('Saved original StyleGAN weights to disk.')\n"
   ]
  }
 ],
 "metadata": {
  "kernelspec": {
   "display_name": "Python 3 (ipykernel)",
   "language": "python",
   "name": "python3"
  },
  "language_info": {
   "codemirror_mode": {
    "name": "ipython",
    "version": 3
   },
   "file_extension": ".py",
   "mimetype": "text/x-python",
   "name": "python",
   "nbconvert_exporter": "python",
   "pygments_lexer": "ipython3",
   "version": "3.7.11"
  }
 },
 "nbformat": 4,
 "nbformat_minor": 5
}
